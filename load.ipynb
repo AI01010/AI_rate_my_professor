{
 "cells": [
  {
   "cell_type": "code",
   "execution_count": 58,
   "metadata": {},
   "outputs": [],
   "source": [
    "from dotenv import load_dotenv\n",
    "load_dotenv()\n",
    "import os\n",
    "from pinecone import Pinecone, ServerlessSpec\n",
    "import google.generativeai as genai"
   ]
  },
  {
   "cell_type": "code",
   "execution_count": 48,
   "metadata": {},
   "outputs": [],
   "source": [
    "pc = Pinecone(api_key = os.getenv(\"PINECONE_API_KEY\"))\n",
    "pc.create_index(\n",
    "    name=\"rag\", dimension=768, metric=\"cosine\", spec = ServerlessSpec(cloud=\"aws\", region=\"us-east-1\")\n",
    ")"
   ]
  },
  {
   "cell_type": "code",
   "execution_count": 55,
   "metadata": {},
   "outputs": [
    {
     "data": {
      "text/plain": [
       "[{'professor': 'John Doe',\n",
       "  'subject': 'Introduction to Computer Science',\n",
       "  'stars': 4,\n",
       "  'review': 'Professor Doe was a great teacher. He explained concepts clearly and was always willing to answer questions.'},\n",
       " {'professor': 'Jane Smith',\n",
       "  'subject': 'Calculus I',\n",
       "  'stars': 3,\n",
       "  'review': 'The course was challenging, but Professor Smith was a good lecturer. She provided helpful examples and practice problems.'},\n",
       " {'professor': 'David Lee',\n",
       "  'subject': 'English Composition',\n",
       "  'stars': 5,\n",
       "  'review': 'Professor Lee is an amazing teacher. He is passionate about literature and inspired me to love reading.'},\n",
       " {'professor': 'Emily Chen',\n",
       "  'subject': 'Biology I',\n",
       "  'stars': 2,\n",
       "  'review': \"The course material was too much for me. Professor Chen's lectures were difficult to follow.\"},\n",
       " {'professor': 'Thomas Brown',\n",
       "  'subject': 'History of the United States',\n",
       "  'stars': 4,\n",
       "  'review': 'Professor Brown is a knowledgeable historian. He made the course interesting and engaging.'},\n",
       " {'professor': 'Sarah Johnson',\n",
       "  'subject': 'Chemistry I',\n",
       "  'stars': 3,\n",
       "  'review': 'The lab experiments were fun, but the lectures were a bit dry. Professor Johnson was helpful during office hours.'},\n",
       " {'professor': 'Michael Wilson',\n",
       "  'subject': 'Psychology 101',\n",
       "  'stars': 5,\n",
       "  'review': 'Professor Wilson is a great teacher. He is very approachable and always willing to help students.'},\n",
       " {'professor': 'Jennifer Davis',\n",
       "  'subject': 'Sociology 101',\n",
       "  'stars': 2,\n",
       "  'review': \"The course material was boring. Professor Davis' lectures were monotone.\"},\n",
       " {'professor': 'Matthew Taylor',\n",
       "  'subject': 'Economics 101',\n",
       "  'stars': 4,\n",
       "  'review': 'Professor Taylor is a good teacher. He explains concepts clearly and is always willing to answer questions.'},\n",
       " {'professor': 'Ashley Clark',\n",
       "  'subject': 'Art History',\n",
       "  'stars': 5,\n",
       "  'review': 'Professor Clark is a passionate art historian. She made the course interesting and engaging.'},\n",
       " {'professor': 'James Harris',\n",
       "  'subject': 'Philosophy 101',\n",
       "  'stars': 3,\n",
       "  'review': 'The course material was challenging, but Professor Harris was a good lecturer. He provided helpful examples and discussion topics.'},\n",
       " {'professor': 'Olivia Carter',\n",
       "  'subject': 'Physics 101',\n",
       "  'stars': 2,\n",
       "  'review': \"The course was difficult. Professor Carter's lectures were hard to follow.\"},\n",
       " {'professor': 'Nicholas Miller',\n",
       "  'subject': 'Statistics 101',\n",
       "  'stars': 4,\n",
       "  'review': 'Professor Miller is a good teacher. He explains concepts clearly and is always willing to answer questions.'},\n",
       " {'professor': 'Emma Moore',\n",
       "  'subject': 'Astronomy 101',\n",
       "  'stars': 5,\n",
       "  'review': 'Professor Moore is a passionate astronomer. She made the course interesting and engaging.'},\n",
       " {'professor': 'Benjamin Turner',\n",
       "  'subject': 'Political Science 101',\n",
       "  'stars': 3,\n",
       "  'review': \"The course material was boring. Professor Turner's lectures were monotone.\"},\n",
       " {'professor': 'Abigail Jones',\n",
       "  'subject': 'Geology 101',\n",
       "  'stars': 4,\n",
       "  'review': 'Professor Jones is a good teacher. She explains concepts clearly and is always willing to answer questions.'},\n",
       " {'professor': 'William Turner',\n",
       "  'subject': 'Computer Science II',\n",
       "  'stars': 2,\n",
       "  'review': \"The course was difficult. Professor Turner's lectures were hard to follow.\"},\n",
       " {'professor': 'Victoria Taylor',\n",
       "  'subject': 'Calculus II',\n",
       "  'stars': 5,\n",
       "  'review': 'Professor Taylor is an amazing teacher. She is passionate about mathematics and inspired me to love the subject.'},\n",
       " {'professor': 'Daniel Smith',\n",
       "  'subject': 'English Literature',\n",
       "  'stars': 3,\n",
       "  'review': 'The course material was challenging, but Professor Smith was a good lecturer. He provided helpful examples and discussion topics.'},\n",
       " {'professor': 'Emily Wilson',\n",
       "  'subject': 'Biology II',\n",
       "  'stars': 4,\n",
       "  'review': 'Professor Wilson is a good teacher. She explains concepts clearly and is always willing to answer questions.'}]"
      ]
     },
     "execution_count": 55,
     "metadata": {},
     "output_type": "execute_result"
    }
   ],
   "source": [
    "import json\n",
    "data = json.load(open(\"reviews.json\"))\n",
    "data['reviews']\n"
   ]
  },
  {
   "cell_type": "code",
   "execution_count": 68,
   "metadata": {},
   "outputs": [
    {
     "ename": "KeyError",
     "evalue": "'GEMINI_API_KEY'",
     "output_type": "error",
     "traceback": [
      "\u001b[1;31m---------------------------------------------------------------------------\u001b[0m",
      "\u001b[1;31mKeyError\u001b[0m                                  Traceback (most recent call last)",
      "Cell \u001b[1;32mIn[68], line 2\u001b[0m\n\u001b[0;32m      1\u001b[0m processed_data \u001b[38;5;241m=\u001b[39m []\n\u001b[1;32m----> 2\u001b[0m GOOGLE_API_KEY \u001b[38;5;241m=\u001b[39m \u001b[43mos\u001b[49m\u001b[38;5;241;43m.\u001b[39;49m\u001b[43menviron\u001b[49m\u001b[43m[\u001b[49m\u001b[38;5;124;43m'\u001b[39;49m\u001b[38;5;124;43mGEMINI_API_KEY\u001b[39;49m\u001b[38;5;124;43m'\u001b[39;49m\u001b[43m]\u001b[49m\n\u001b[0;32m      3\u001b[0m genai\u001b[38;5;241m.\u001b[39mconfigure(api_key \u001b[38;5;241m=\u001b[39m GOOGLE_API_KEY)\n\u001b[0;32m      4\u001b[0m \u001b[38;5;28;01mfor\u001b[39;00m review \u001b[38;5;129;01min\u001b[39;00m data[\u001b[38;5;124m'\u001b[39m\u001b[38;5;124mreviews\u001b[39m\u001b[38;5;124m'\u001b[39m]:\n",
      "File \u001b[1;32m<frozen os>:714\u001b[0m, in \u001b[0;36m__getitem__\u001b[1;34m(self, key)\u001b[0m\n",
      "\u001b[1;31mKeyError\u001b[0m: 'GEMINI_API_KEY'"
     ]
    }
   ],
   "source": [
    "processed_data = []\n",
    "GOOGLE_API_KEY = os.environ['GEMINI_API_KEY']\n",
    "genai.configure(api_key = GOOGLE_API_KEY)\n",
    "for review in data['reviews']:\n",
    "    result = genai.embed_content(\n",
    "    model=\"models/text-embedding-004\", content=review['review'], output_dimensionality=10\n",
    "    )\n",
    "    embedding = result[\"embedding\"]\n",
    "    processed_data.append({\n",
    "        \"values\": embedding,\n",
    "        \"id\": review[\"professor\"],\n",
    "        \"metadata\": {\n",
    "            \"review\": review[\"review\"],\n",
    "            \"subject\": review[\"subject\"],\n",
    "            \"stars\": review[\"stars\"]\n",
    "        }\n",
    "    })"
   ]
  }
 ],
 "metadata": {
  "kernelspec": {
   "display_name": "Python 3",
   "language": "python",
   "name": "python3"
  },
  "language_info": {
   "codemirror_mode": {
    "name": "ipython",
    "version": 3
   },
   "file_extension": ".py",
   "mimetype": "text/x-python",
   "name": "python",
   "nbconvert_exporter": "python",
   "pygments_lexer": "ipython3",
   "version": "3.12.4"
  }
 },
 "nbformat": 4,
 "nbformat_minor": 2
}
